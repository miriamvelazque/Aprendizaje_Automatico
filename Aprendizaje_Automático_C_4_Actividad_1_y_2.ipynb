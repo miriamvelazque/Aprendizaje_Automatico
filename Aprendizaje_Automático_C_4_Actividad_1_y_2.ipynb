{
  "nbformat": 4,
  "nbformat_minor": 0,
  "metadata": {
    "colab": {
      "provenance": []
    },
    "kernelspec": {
      "name": "python3",
      "display_name": "Python 3"
    },
    "language_info": {
      "name": "python"
    }
  },
  "cells": [
    {
      "cell_type": "markdown",
      "source": [
        "##**Aprendizaje Automático**\n",
        "**Alumna:** Miriam Velazque\n",
        "Enlace:  https://colab.research.google.com/drive/1pjoYesPTfPyLViEyB9EPDdoiQGbbZ5yQ?usp=sharing\n"
      ],
      "metadata": {
        "id": "E4wQ2q_XHOvi"
      }
    },
    {
      "cell_type": "markdown",
      "source": [
        "##**Actividad 1** Relación lineal entre el PIB de países y el PIB mundial"
      ],
      "metadata": {
        "id": "al8QxWnX69Av"
      }
    },
    {
      "cell_type": "markdown",
      "source": [
        "Encontrar una posible relación lineal entre el PIB de diferentes países y el PIB mundial. El objetivo es identificar qué países (o combinación de países) explican mejor el comportamiento del PIB global."
      ],
      "metadata": {
        "id": "gSdRtd_v93A0"
      }
    },
    {
      "cell_type": "code",
      "source": [
        "# Importación de librerías\n",
        "import pandas as pd\n",
        "import numpy as np\n",
        "import matplotlib.pyplot as plt\n",
        "from sklearn.linear_model import LinearRegression\n",
        "from sklearn.metrics import mean_squared_error, r2_score\n",
        "\n"
      ],
      "metadata": {
        "id": "Q2B5tZDQ9y0B"
      },
      "execution_count": null,
      "outputs": []
    },
    {
      "cell_type": "code",
      "source": [
        "# Carga y organización de los datos\n",
        "# Cargar el archivo con separador ';' (delimiter=';' le dice a pandas que las columnas en el archivo están separadas\n",
        "# por un punto y coma (;) y no por la coma (,) que es la opción por defecto\n",
        "\n",
        "df = pd.read_csv('/pib_banco_mundial_50.csv', delimiter=';')\n",
        "\n",
        "# Convertimos columnas de años a numéricas\n",
        "anios = ['2019', '2020', '2021', '2022', '2023']\n",
        "for col in anios:\n",
        "    df[col] = pd.to_numeric(df[col], errors='coerce')"
      ],
      "metadata": {
        "id": "srBr2OnW-Fbw"
      },
      "execution_count": null,
      "outputs": []
    },
    {
      "cell_type": "code",
      "source": [
        "# Separamos el PIB mundial (array con los datos del PIB global total para cada año especificado)\n",
        "pib_mundial = df[df['Country Name'] == 'World'][anios].values.flatten()\n",
        "\n",
        "# Eliminamos la fila del PIB mundial para usar los países como variables\n",
        "df_paises = df[df['Country Name'] != 'World']\n",
        "\n",
        "pib_mundial"
      ],
      "metadata": {
        "colab": {
          "base_uri": "https://localhost:8080/"
        },
        "id": "vRY8eP6J_imF",
        "outputId": "af0eeb50-35b9-434e-984c-d0381b841f11"
      },
      "execution_count": null,
      "outputs": [
        {
          "output_type": "execute_result",
          "data": {
            "text/plain": [
              "array([5.85757e+13, 6.45167e+13, 6.17213e+13, 6.39117e+13, 6.94809e+13])"
            ]
          },
          "metadata": {},
          "execution_count": 62
        }
      ]
    },
    {
      "cell_type": "code",
      "source": [
        "# Exploración de los datos (chequeo rápido de la calidad de los datos)\n",
        "\n",
        "# Verificamos datos faltantes\n",
        "print(\"Valores nulos por columna:\")\n",
        "print(df_paises[anios].isnull().sum())\n",
        "\n",
        "# Visualizamos algunos países\n",
        "print(\"Ejemplo de datos:\")\n",
        "print(df_paises[['Country Name'] + anios].head())\n"
      ],
      "metadata": {
        "colab": {
          "base_uri": "https://localhost:8080/"
        },
        "id": "gC6bwnhT_dEN",
        "outputId": "b853b0b1-a4d0-4efe-9763-614e325717f0"
      },
      "execution_count": null,
      "outputs": [
        {
          "output_type": "stream",
          "name": "stdout",
          "text": [
            "Valores nulos por columna:\n",
            "2019    0\n",
            "2020    0\n",
            "2021    0\n",
            "2022    0\n",
            "2023    0\n",
            "dtype: int64\n",
            "Ejemplo de datos:\n",
            "    Country Name          2019          2020          2021          2022  \\\n",
            "0      Argentina  1.492100e+12  5.090000e+11  2.781000e+11  7.350000e+11   \n",
            "1         Brazil  8.961000e+11  2.279500e+12  1.978400e+12  1.322700e+12   \n",
            "2  United States  2.164700e+12  6.277000e+11  6.323000e+11  1.705900e+12   \n",
            "3          China  8.600000e+09  1.491000e+11  1.204200e+12  2.200000e+12   \n",
            "4          India  8.261000e+11  1.537000e+12  2.098200e+12  2.001300e+12   \n",
            "\n",
            "           2023  \n",
            "0  1.361300e+12  \n",
            "1  1.234500e+12  \n",
            "2  1.531200e+12  \n",
            "3  9.592000e+11  \n",
            "4  1.486400e+12  \n"
          ]
        }
      ]
    },
    {
      "cell_type": "code",
      "source": [
        "# Modelado de regresión lineal (PIB de cada país como variables independientes (X)\n",
        "# y el PIB mundial como variable dependiente (Y), año por año.)\n",
        "\n",
        "# Transponemos los datos para que cada país sea una columna (variable predictora)\n",
        "# se trasponen (.T) y se asignan los nombres de los países como nombres de las columnas del nuevo DataFrame X\n",
        "X = df_paises[anios].T\n",
        "X.columns = df_paises['Country Name'].values\n",
        "\n",
        "# Variable objetivo: PIB mundial (se asigna el array pib_mundial)\n",
        "Y = pib_mundial\n",
        "\n",
        "# Previsualizo los cambios\n",
        "X.head()"
      ],
      "metadata": {
        "colab": {
          "base_uri": "https://localhost:8080/",
          "height": 273
        },
        "id": "eqrfUclkArGY",
        "outputId": "8c460412-099d-485a-c724-5ba072d36d6d"
      },
      "execution_count": null,
      "outputs": [
        {
          "output_type": "execute_result",
          "data": {
            "text/plain": [
              "         Argentina        Brazil  United States         China         India  \\\n",
              "2019  1.492100e+12  8.961000e+11   2.164700e+12  8.600000e+09  8.261000e+11   \n",
              "2020  5.090000e+11  2.279500e+12   6.277000e+11  1.491000e+11  1.537000e+12   \n",
              "2021  2.781000e+11  1.978400e+12   6.323000e+11  1.204200e+12  2.098200e+12   \n",
              "2022  7.350000e+11  1.322700e+12   1.705900e+12  2.200000e+12  2.001300e+12   \n",
              "2023  1.361300e+12  1.234500e+12   1.531200e+12  9.592000e+11  1.486400e+12   \n",
              "\n",
              "           Germany        France  United Kingdom         Italy         Spain  \\\n",
              "2019  1.740500e+12  6.020000e+11    2.299700e+12  7.559000e+11  3.763000e+11   \n",
              "2020  1.451500e+12  6.402000e+11    1.399400e+12  2.445200e+12  4.963000e+11   \n",
              "2021  1.356700e+12  1.836300e+12    7.928000e+11  7.028000e+11  5.665000e+11   \n",
              "2022  1.823800e+12  2.447700e+12    1.191400e+12  1.006100e+12  6.679000e+11   \n",
              "2023  4.185000e+11  1.799200e+12    2.180100e+12  1.090600e+12  7.281000e+11   \n",
              "\n",
              "      ...        Sweden        Norway       Denmark       Finland  \\\n",
              "2019  ...  2.296000e+12  8.252000e+11  1.230300e+12  5.497000e+11   \n",
              "2020  ...  5.882000e+11  3.935000e+11  2.656000e+11  1.230000e+12   \n",
              "2021  ...  7.828000e+11  1.992000e+11  1.491300e+12  1.856500e+12   \n",
              "2022  ...  1.316100e+12  1.422300e+12  2.127700e+12  6.803000e+11   \n",
              "2023  ...  1.692700e+12  1.394500e+12  6.452000e+11  2.243000e+12   \n",
              "\n",
              "            Poland  Czech Republic       Hungary        Greece      Portugal  \\\n",
              "2019  2.031000e+11    1.820100e+12  2.118500e+12  7.337000e+11  1.138000e+11   \n",
              "2020  2.322400e+12    1.978400e+12  1.562700e+12  3.544000e+11  1.863200e+12   \n",
              "2021  2.116300e+12    3.443000e+11  2.447900e+12  5.649000e+11  1.225700e+12   \n",
              "2022  1.494800e+12    1.727000e+11  2.110900e+12  3.052000e+11  4.290000e+10   \n",
              "2023  1.479800e+12    1.176500e+12  1.707900e+12  1.391700e+12  2.257800e+12   \n",
              "\n",
              "       Netherlands  \n",
              "2019  9.981000e+11  \n",
              "2020  2.374600e+12  \n",
              "2021  2.095300e+12  \n",
              "2022  1.860600e+12  \n",
              "2023  1.628000e+12  \n",
              "\n",
              "[5 rows x 50 columns]"
            ],
            "text/html": [
              "\n",
              "  <div id=\"df-3fd9f4b1-179e-4bb4-b1fd-15adaef201c0\" class=\"colab-df-container\">\n",
              "    <div>\n",
              "<style scoped>\n",
              "    .dataframe tbody tr th:only-of-type {\n",
              "        vertical-align: middle;\n",
              "    }\n",
              "\n",
              "    .dataframe tbody tr th {\n",
              "        vertical-align: top;\n",
              "    }\n",
              "\n",
              "    .dataframe thead th {\n",
              "        text-align: right;\n",
              "    }\n",
              "</style>\n",
              "<table border=\"1\" class=\"dataframe\">\n",
              "  <thead>\n",
              "    <tr style=\"text-align: right;\">\n",
              "      <th></th>\n",
              "      <th>Argentina</th>\n",
              "      <th>Brazil</th>\n",
              "      <th>United States</th>\n",
              "      <th>China</th>\n",
              "      <th>India</th>\n",
              "      <th>Germany</th>\n",
              "      <th>France</th>\n",
              "      <th>United Kingdom</th>\n",
              "      <th>Italy</th>\n",
              "      <th>Spain</th>\n",
              "      <th>...</th>\n",
              "      <th>Sweden</th>\n",
              "      <th>Norway</th>\n",
              "      <th>Denmark</th>\n",
              "      <th>Finland</th>\n",
              "      <th>Poland</th>\n",
              "      <th>Czech Republic</th>\n",
              "      <th>Hungary</th>\n",
              "      <th>Greece</th>\n",
              "      <th>Portugal</th>\n",
              "      <th>Netherlands</th>\n",
              "    </tr>\n",
              "  </thead>\n",
              "  <tbody>\n",
              "    <tr>\n",
              "      <th>2019</th>\n",
              "      <td>1.492100e+12</td>\n",
              "      <td>8.961000e+11</td>\n",
              "      <td>2.164700e+12</td>\n",
              "      <td>8.600000e+09</td>\n",
              "      <td>8.261000e+11</td>\n",
              "      <td>1.740500e+12</td>\n",
              "      <td>6.020000e+11</td>\n",
              "      <td>2.299700e+12</td>\n",
              "      <td>7.559000e+11</td>\n",
              "      <td>3.763000e+11</td>\n",
              "      <td>...</td>\n",
              "      <td>2.296000e+12</td>\n",
              "      <td>8.252000e+11</td>\n",
              "      <td>1.230300e+12</td>\n",
              "      <td>5.497000e+11</td>\n",
              "      <td>2.031000e+11</td>\n",
              "      <td>1.820100e+12</td>\n",
              "      <td>2.118500e+12</td>\n",
              "      <td>7.337000e+11</td>\n",
              "      <td>1.138000e+11</td>\n",
              "      <td>9.981000e+11</td>\n",
              "    </tr>\n",
              "    <tr>\n",
              "      <th>2020</th>\n",
              "      <td>5.090000e+11</td>\n",
              "      <td>2.279500e+12</td>\n",
              "      <td>6.277000e+11</td>\n",
              "      <td>1.491000e+11</td>\n",
              "      <td>1.537000e+12</td>\n",
              "      <td>1.451500e+12</td>\n",
              "      <td>6.402000e+11</td>\n",
              "      <td>1.399400e+12</td>\n",
              "      <td>2.445200e+12</td>\n",
              "      <td>4.963000e+11</td>\n",
              "      <td>...</td>\n",
              "      <td>5.882000e+11</td>\n",
              "      <td>3.935000e+11</td>\n",
              "      <td>2.656000e+11</td>\n",
              "      <td>1.230000e+12</td>\n",
              "      <td>2.322400e+12</td>\n",
              "      <td>1.978400e+12</td>\n",
              "      <td>1.562700e+12</td>\n",
              "      <td>3.544000e+11</td>\n",
              "      <td>1.863200e+12</td>\n",
              "      <td>2.374600e+12</td>\n",
              "    </tr>\n",
              "    <tr>\n",
              "      <th>2021</th>\n",
              "      <td>2.781000e+11</td>\n",
              "      <td>1.978400e+12</td>\n",
              "      <td>6.323000e+11</td>\n",
              "      <td>1.204200e+12</td>\n",
              "      <td>2.098200e+12</td>\n",
              "      <td>1.356700e+12</td>\n",
              "      <td>1.836300e+12</td>\n",
              "      <td>7.928000e+11</td>\n",
              "      <td>7.028000e+11</td>\n",
              "      <td>5.665000e+11</td>\n",
              "      <td>...</td>\n",
              "      <td>7.828000e+11</td>\n",
              "      <td>1.992000e+11</td>\n",
              "      <td>1.491300e+12</td>\n",
              "      <td>1.856500e+12</td>\n",
              "      <td>2.116300e+12</td>\n",
              "      <td>3.443000e+11</td>\n",
              "      <td>2.447900e+12</td>\n",
              "      <td>5.649000e+11</td>\n",
              "      <td>1.225700e+12</td>\n",
              "      <td>2.095300e+12</td>\n",
              "    </tr>\n",
              "    <tr>\n",
              "      <th>2022</th>\n",
              "      <td>7.350000e+11</td>\n",
              "      <td>1.322700e+12</td>\n",
              "      <td>1.705900e+12</td>\n",
              "      <td>2.200000e+12</td>\n",
              "      <td>2.001300e+12</td>\n",
              "      <td>1.823800e+12</td>\n",
              "      <td>2.447700e+12</td>\n",
              "      <td>1.191400e+12</td>\n",
              "      <td>1.006100e+12</td>\n",
              "      <td>6.679000e+11</td>\n",
              "      <td>...</td>\n",
              "      <td>1.316100e+12</td>\n",
              "      <td>1.422300e+12</td>\n",
              "      <td>2.127700e+12</td>\n",
              "      <td>6.803000e+11</td>\n",
              "      <td>1.494800e+12</td>\n",
              "      <td>1.727000e+11</td>\n",
              "      <td>2.110900e+12</td>\n",
              "      <td>3.052000e+11</td>\n",
              "      <td>4.290000e+10</td>\n",
              "      <td>1.860600e+12</td>\n",
              "    </tr>\n",
              "    <tr>\n",
              "      <th>2023</th>\n",
              "      <td>1.361300e+12</td>\n",
              "      <td>1.234500e+12</td>\n",
              "      <td>1.531200e+12</td>\n",
              "      <td>9.592000e+11</td>\n",
              "      <td>1.486400e+12</td>\n",
              "      <td>4.185000e+11</td>\n",
              "      <td>1.799200e+12</td>\n",
              "      <td>2.180100e+12</td>\n",
              "      <td>1.090600e+12</td>\n",
              "      <td>7.281000e+11</td>\n",
              "      <td>...</td>\n",
              "      <td>1.692700e+12</td>\n",
              "      <td>1.394500e+12</td>\n",
              "      <td>6.452000e+11</td>\n",
              "      <td>2.243000e+12</td>\n",
              "      <td>1.479800e+12</td>\n",
              "      <td>1.176500e+12</td>\n",
              "      <td>1.707900e+12</td>\n",
              "      <td>1.391700e+12</td>\n",
              "      <td>2.257800e+12</td>\n",
              "      <td>1.628000e+12</td>\n",
              "    </tr>\n",
              "  </tbody>\n",
              "</table>\n",
              "<p>5 rows × 50 columns</p>\n",
              "</div>\n",
              "    <div class=\"colab-df-buttons\">\n",
              "\n",
              "  <div class=\"colab-df-container\">\n",
              "    <button class=\"colab-df-convert\" onclick=\"convertToInteractive('df-3fd9f4b1-179e-4bb4-b1fd-15adaef201c0')\"\n",
              "            title=\"Convert this dataframe to an interactive table.\"\n",
              "            style=\"display:none;\">\n",
              "\n",
              "  <svg xmlns=\"http://www.w3.org/2000/svg\" height=\"24px\" viewBox=\"0 -960 960 960\">\n",
              "    <path d=\"M120-120v-720h720v720H120Zm60-500h600v-160H180v160Zm220 220h160v-160H400v160Zm0 220h160v-160H400v160ZM180-400h160v-160H180v160Zm440 0h160v-160H620v160ZM180-180h160v-160H180v160Zm440 0h160v-160H620v160Z\"/>\n",
              "  </svg>\n",
              "    </button>\n",
              "\n",
              "  <style>\n",
              "    .colab-df-container {\n",
              "      display:flex;\n",
              "      gap: 12px;\n",
              "    }\n",
              "\n",
              "    .colab-df-convert {\n",
              "      background-color: #E8F0FE;\n",
              "      border: none;\n",
              "      border-radius: 50%;\n",
              "      cursor: pointer;\n",
              "      display: none;\n",
              "      fill: #1967D2;\n",
              "      height: 32px;\n",
              "      padding: 0 0 0 0;\n",
              "      width: 32px;\n",
              "    }\n",
              "\n",
              "    .colab-df-convert:hover {\n",
              "      background-color: #E2EBFA;\n",
              "      box-shadow: 0px 1px 2px rgba(60, 64, 67, 0.3), 0px 1px 3px 1px rgba(60, 64, 67, 0.15);\n",
              "      fill: #174EA6;\n",
              "    }\n",
              "\n",
              "    .colab-df-buttons div {\n",
              "      margin-bottom: 4px;\n",
              "    }\n",
              "\n",
              "    [theme=dark] .colab-df-convert {\n",
              "      background-color: #3B4455;\n",
              "      fill: #D2E3FC;\n",
              "    }\n",
              "\n",
              "    [theme=dark] .colab-df-convert:hover {\n",
              "      background-color: #434B5C;\n",
              "      box-shadow: 0px 1px 3px 1px rgba(0, 0, 0, 0.15);\n",
              "      filter: drop-shadow(0px 1px 2px rgba(0, 0, 0, 0.3));\n",
              "      fill: #FFFFFF;\n",
              "    }\n",
              "  </style>\n",
              "\n",
              "    <script>\n",
              "      const buttonEl =\n",
              "        document.querySelector('#df-3fd9f4b1-179e-4bb4-b1fd-15adaef201c0 button.colab-df-convert');\n",
              "      buttonEl.style.display =\n",
              "        google.colab.kernel.accessAllowed ? 'block' : 'none';\n",
              "\n",
              "      async function convertToInteractive(key) {\n",
              "        const element = document.querySelector('#df-3fd9f4b1-179e-4bb4-b1fd-15adaef201c0');\n",
              "        const dataTable =\n",
              "          await google.colab.kernel.invokeFunction('convertToInteractive',\n",
              "                                                    [key], {});\n",
              "        if (!dataTable) return;\n",
              "\n",
              "        const docLinkHtml = 'Like what you see? Visit the ' +\n",
              "          '<a target=\"_blank\" href=https://colab.research.google.com/notebooks/data_table.ipynb>data table notebook</a>'\n",
              "          + ' to learn more about interactive tables.';\n",
              "        element.innerHTML = '';\n",
              "        dataTable['output_type'] = 'display_data';\n",
              "        await google.colab.output.renderOutput(dataTable, element);\n",
              "        const docLink = document.createElement('div');\n",
              "        docLink.innerHTML = docLinkHtml;\n",
              "        element.appendChild(docLink);\n",
              "      }\n",
              "    </script>\n",
              "  </div>\n",
              "\n",
              "\n",
              "    <div id=\"df-40bf3ad4-c5e9-41fd-8a76-f7fe7e9058eb\">\n",
              "      <button class=\"colab-df-quickchart\" onclick=\"quickchart('df-40bf3ad4-c5e9-41fd-8a76-f7fe7e9058eb')\"\n",
              "                title=\"Suggest charts\"\n",
              "                style=\"display:none;\">\n",
              "\n",
              "<svg xmlns=\"http://www.w3.org/2000/svg\" height=\"24px\"viewBox=\"0 0 24 24\"\n",
              "     width=\"24px\">\n",
              "    <g>\n",
              "        <path d=\"M19 3H5c-1.1 0-2 .9-2 2v14c0 1.1.9 2 2 2h14c1.1 0 2-.9 2-2V5c0-1.1-.9-2-2-2zM9 17H7v-7h2v7zm4 0h-2V7h2v10zm4 0h-2v-4h2v4z\"/>\n",
              "    </g>\n",
              "</svg>\n",
              "      </button>\n",
              "\n",
              "<style>\n",
              "  .colab-df-quickchart {\n",
              "      --bg-color: #E8F0FE;\n",
              "      --fill-color: #1967D2;\n",
              "      --hover-bg-color: #E2EBFA;\n",
              "      --hover-fill-color: #174EA6;\n",
              "      --disabled-fill-color: #AAA;\n",
              "      --disabled-bg-color: #DDD;\n",
              "  }\n",
              "\n",
              "  [theme=dark] .colab-df-quickchart {\n",
              "      --bg-color: #3B4455;\n",
              "      --fill-color: #D2E3FC;\n",
              "      --hover-bg-color: #434B5C;\n",
              "      --hover-fill-color: #FFFFFF;\n",
              "      --disabled-bg-color: #3B4455;\n",
              "      --disabled-fill-color: #666;\n",
              "  }\n",
              "\n",
              "  .colab-df-quickchart {\n",
              "    background-color: var(--bg-color);\n",
              "    border: none;\n",
              "    border-radius: 50%;\n",
              "    cursor: pointer;\n",
              "    display: none;\n",
              "    fill: var(--fill-color);\n",
              "    height: 32px;\n",
              "    padding: 0;\n",
              "    width: 32px;\n",
              "  }\n",
              "\n",
              "  .colab-df-quickchart:hover {\n",
              "    background-color: var(--hover-bg-color);\n",
              "    box-shadow: 0 1px 2px rgba(60, 64, 67, 0.3), 0 1px 3px 1px rgba(60, 64, 67, 0.15);\n",
              "    fill: var(--button-hover-fill-color);\n",
              "  }\n",
              "\n",
              "  .colab-df-quickchart-complete:disabled,\n",
              "  .colab-df-quickchart-complete:disabled:hover {\n",
              "    background-color: var(--disabled-bg-color);\n",
              "    fill: var(--disabled-fill-color);\n",
              "    box-shadow: none;\n",
              "  }\n",
              "\n",
              "  .colab-df-spinner {\n",
              "    border: 2px solid var(--fill-color);\n",
              "    border-color: transparent;\n",
              "    border-bottom-color: var(--fill-color);\n",
              "    animation:\n",
              "      spin 1s steps(1) infinite;\n",
              "  }\n",
              "\n",
              "  @keyframes spin {\n",
              "    0% {\n",
              "      border-color: transparent;\n",
              "      border-bottom-color: var(--fill-color);\n",
              "      border-left-color: var(--fill-color);\n",
              "    }\n",
              "    20% {\n",
              "      border-color: transparent;\n",
              "      border-left-color: var(--fill-color);\n",
              "      border-top-color: var(--fill-color);\n",
              "    }\n",
              "    30% {\n",
              "      border-color: transparent;\n",
              "      border-left-color: var(--fill-color);\n",
              "      border-top-color: var(--fill-color);\n",
              "      border-right-color: var(--fill-color);\n",
              "    }\n",
              "    40% {\n",
              "      border-color: transparent;\n",
              "      border-right-color: var(--fill-color);\n",
              "      border-top-color: var(--fill-color);\n",
              "    }\n",
              "    60% {\n",
              "      border-color: transparent;\n",
              "      border-right-color: var(--fill-color);\n",
              "    }\n",
              "    80% {\n",
              "      border-color: transparent;\n",
              "      border-right-color: var(--fill-color);\n",
              "      border-bottom-color: var(--fill-color);\n",
              "    }\n",
              "    90% {\n",
              "      border-color: transparent;\n",
              "      border-bottom-color: var(--fill-color);\n",
              "    }\n",
              "  }\n",
              "</style>\n",
              "\n",
              "      <script>\n",
              "        async function quickchart(key) {\n",
              "          const quickchartButtonEl =\n",
              "            document.querySelector('#' + key + ' button');\n",
              "          quickchartButtonEl.disabled = true;  // To prevent multiple clicks.\n",
              "          quickchartButtonEl.classList.add('colab-df-spinner');\n",
              "          try {\n",
              "            const charts = await google.colab.kernel.invokeFunction(\n",
              "                'suggestCharts', [key], {});\n",
              "          } catch (error) {\n",
              "            console.error('Error during call to suggestCharts:', error);\n",
              "          }\n",
              "          quickchartButtonEl.classList.remove('colab-df-spinner');\n",
              "          quickchartButtonEl.classList.add('colab-df-quickchart-complete');\n",
              "        }\n",
              "        (() => {\n",
              "          let quickchartButtonEl =\n",
              "            document.querySelector('#df-40bf3ad4-c5e9-41fd-8a76-f7fe7e9058eb button');\n",
              "          quickchartButtonEl.style.display =\n",
              "            google.colab.kernel.accessAllowed ? 'block' : 'none';\n",
              "        })();\n",
              "      </script>\n",
              "    </div>\n",
              "\n",
              "    </div>\n",
              "  </div>\n"
            ],
            "application/vnd.google.colaboratory.intrinsic+json": {
              "type": "dataframe",
              "variable_name": "X"
            }
          },
          "metadata": {},
          "execution_count": 64
        }
      ]
    },
    {
      "cell_type": "code",
      "source": [
        "# Creamos el modelo.\n",
        "# El algoritmo aprende la relación entre las variables independientes (X, los PIB de cada país) y la variable dependiente (Y, el PIB mundial).\n",
        "modelo = LinearRegression()\n",
        "modelo.fit(X, Y)\n",
        "\n",
        "# Predicción\n",
        "Y_pred = modelo.predict(X)\n",
        "\n",
        "# Métricas\n",
        "print(\"Error cuadrático medio:\", round(mean_squared_error(Y, Y_pred), 2))\n",
        "print(\"R²:\", round(r2_score(Y, Y_pred), 2))\n"
      ],
      "metadata": {
        "colab": {
          "base_uri": "https://localhost:8080/"
        },
        "id": "MBc0ItfrBUYk",
        "outputId": "da024c92-006a-4fbc-f0b7-3dae7cf55ab0"
      },
      "execution_count": null,
      "outputs": [
        {
          "output_type": "stream",
          "name": "stdout",
          "text": [
            "Error cuadrático medio: 0.0\n",
            "R²: 1.0\n"
          ]
        }
      ]
    },
    {
      "cell_type": "code",
      "source": [
        "# Visualización del ajuste\n",
        "plt.figure(figsize=(8,5))\n",
        "plt.plot(anios, Y, label='PIB Mundial real', marker='o')\n",
        "plt.plot(anios, Y_pred, label='PIB Mundial predicho', marker='x')\n",
        "plt.title('Ajuste de regresión lineal al PIB mundial')\n",
        "plt.xlabel('Año')\n",
        "plt.ylabel('PIB (USD)')\n",
        "plt.legend()\n",
        "plt.grid(True)\n",
        "plt.show()\n"
      ],
      "metadata": {
        "colab": {
          "base_uri": "https://localhost:8080/",
          "height": 488
        },
        "id": "ytHjqQHNDjll",
        "outputId": "6194f2c4-68c7-4c52-d2c0-0fb335c3ac21"
      },
      "execution_count": null,
      "outputs": [
        {
          "output_type": "display_data",
          "data": {
            "text/plain": [
              "<Figure size 800x500 with 1 Axes>"
            ],
            "image/png": "[encoded data removed]"
          },
          "metadata": {}
        }
      ]
    },
    {
      "cell_type": "code",
      "source": [
        "# Análisis de contribución por país\n",
        "# Coeficientes por país\n",
        "coeficientes = pd.Series(modelo.coef_, index=X.columns)\n",
        "coef_ordenados = coeficientes.sort_values(ascending=False)\n",
        "\n",
        "print(\"Países con mayor peso en la predicción del PIB mundial:\")\n",
        "print(coef_ordenados.head(10))\n"
      ],
      "metadata": {
        "colab": {
          "base_uri": "https://localhost:8080/"
        },
        "id": "NNWtMu29Dryb",
        "outputId": "be2fafed-7fcc-4f8b-81d5-e5df6d5cc970"
      },
      "execution_count": null,
      "outputs": [
        {
          "output_type": "stream",
          "name": "stdout",
          "text": [
            "Países con mayor peso en la predicción del PIB mundial:\n",
            "Colombia        0.651401\n",
            "South Korea     0.617141\n",
            "Portugal        0.601615\n",
            "Vietnam         0.520269\n",
            "Thailand        0.438382\n",
            "Chile           0.422203\n",
            "South Africa    0.415733\n",
            "Norway          0.399433\n",
            "Bolivia         0.364960\n",
            "Finland         0.350629\n",
            "dtype: float64\n"
          ]
        }
      ]
    },
    {
      "cell_type": "markdown",
      "source": [
        "##**Conclusión**\n",
        "El modelo de regresión lineal permite identificar qué países tienen mayor correlación con el PIB mundial.\n",
        "Los coeficientes más altos indican mayor influencia en la predicción.\n",
        "Este análisis puede servir como base para estudios económicos, geopolíticos o decisiones de inversión."
      ],
      "metadata": {
        "id": "Ti9AWeEzD1YC"
      }
    },
    {
      "cell_type": "markdown",
      "source": [
        "##**Actividad 2** Clasificación de usuarios por sistema operativo"
      ],
      "metadata": {
        "id": "6P7DCLhjrpaK"
      }
    },
    {
      "cell_type": "markdown",
      "source": [
        "Para esta actividad se ha creado un archivo usuarios_win_mac_lin.csv con datos de\n",
        "entrada a modo de ejemplo para clasificar si el usuario que visita un sitio web usa\n",
        "como sistema operativo Windows, Macintosh o Linux.\n",
        "\n",
        "Nuestra información de entrada son 4 características que se tomó de una web que utiliza\n",
        "Google Analytics y son:\n",
        "\n",
        "● Duración de la visita en Segundos\n",
        "\n",
        "● Cantidad de Páginas Vistas durante la Sesión\n",
        "\n",
        "● Cantidad de Acciones del usuario (click, scroll, uso de checkbox, sliders,etc)\n",
        "\n",
        "● Suma del Valor de las acciones (cada acción lleva asociada una valoración\n",
        "de importancia)\n",
        "\n",
        "Como la salida es discreta, asignaremos los siguientes valores a las etiquetas:\n",
        "\n",
        "0 – Windows\n",
        "\n",
        "1 – Macintosh\n",
        "\n",
        "2 -Linux"
      ],
      "metadata": {
        "id": "bqUqHJfsr548"
      }
    },
    {
      "cell_type": "code",
      "execution_count": null,
      "metadata": {
        "id": "6BflMHfNiFwt"
      },
      "outputs": [],
      "source": [
        "# Importación de librerías\n",
        "import pandas as pd\n",
        "import numpy as np\n",
        "import matplotlib.pyplot as plt\n",
        "import seaborn as sns\n",
        "\n",
        "from sklearn.model_selection import train_test_split\n",
        "from sklearn.linear_model import LogisticRegression\n",
        "from sklearn.metrics import classification_report, confusion_matrix, accuracy_score\n"
      ]
    },
    {
      "cell_type": "code",
      "source": [
        "# Carga y exploración de los datos\n",
        "\n",
        "# Cargar el archivo CSV\n",
        "df = pd.read_csv('/usuarios_win_mac_lin.csv', delimiter=',')\n",
        "\n",
        "# Vista inicial\n",
        "print(\"Primeras filas del dataset:\")\n",
        "print(df.head())\n",
        "\n",
        "print(\"\\nDistribución de clases:\")\n",
        "print(df['clase'].value_counts())\n"
      ],
      "metadata": {
        "colab": {
          "base_uri": "https://localhost:8080/"
        },
        "id": "iSryVCyDwSW2",
        "outputId": "3a880fea-46b0-4f2f-b626-c2b38db481b0"
      },
      "execution_count": null,
      "outputs": [
        {
          "output_type": "stream",
          "name": "stdout",
          "text": [
            "Primeras filas del dataset:\n",
            "   duracion  paginas  acciones  valor  clase\n",
            "0       7.0        2         4      8      2\n",
            "1      21.0        2         6      6      2\n",
            "2      57.0        2         4      4      2\n",
            "3     101.0        3         6     12      2\n",
            "4     109.0        2         6     12      2\n",
            "\n",
            "Distribución de clases:\n",
            "clase\n",
            "0    86\n",
            "2    44\n",
            "1    40\n",
            "Name: count, dtype: int64\n"
          ]
        }
      ]
    },
    {
      "cell_type": "markdown",
      "source": [
        "**Preparación de variables**"
      ],
      "metadata": {
        "id": "LE0O3WaAwlmN"
      }
    },
    {
      "cell_type": "markdown",
      "source": [
        "Usamos '.values'\n",
        "\n",
        "Convierte las columnas seleccionadas de un DataFrame de pandas a un array de NumPy.\n",
        "\n",
        "Esto es un paso crucial porque la mayoría de las librerías de machine learning (como Scikit-learn) trabajan con arrays de NumPy, que son más eficientes para cálculos numéricos."
      ],
      "metadata": {
        "id": "w9Cmcnd901C0"
      }
    },
    {
      "cell_type": "code",
      "source": [
        "# Variables predictoras (independientes)\n",
        "X = df[['duracion', 'paginas', 'acciones', 'valor']].values\n",
        "\n",
        "# Variable objetivo (dependiente, es la columna que el modelo intentará predecir.)\n",
        "Y = df['clase'].values\n"
      ],
      "metadata": {
        "id": "YgsAyUX_wq3p"
      },
      "execution_count": null,
      "outputs": []
    },
    {
      "cell_type": "code",
      "source": [
        "# División en entrenamiento y prueba\n",
        "X_train, X_test, Y_train, Y_test = train_test_split(X, Y, test_size=0.2, random_state=42)\n"
      ],
      "metadata": {
        "id": "hWDSwY2zw1hl"
      },
      "execution_count": null,
      "outputs": []
    },
    {
      "cell_type": "markdown",
      "source": [
        "Usamos:\n",
        "\n",
        "multi_class='multinomial': Esto le dice al modelo que la variable que va a predecir (Y_train) tiene más de dos posibles resultados.\n",
        "\n",
        "'lbfgs' es un optimizador"
      ],
      "metadata": {
        "id": "PK2q2z8A2BH5"
      }
    },
    {
      "cell_type": "code",
      "source": [
        "# Entrenamiento del modelo\n",
        "modelo = LogisticRegression(max_iter=1000, multi_class='multinomial', solver='lbfgs')\n",
        "modelo.fit(X_train, Y_train)\n"
      ],
      "metadata": {
        "colab": {
          "base_uri": "https://localhost:8080/",
          "height": 136
        },
        "id": "ZLboUTqqxFHc",
        "outputId": "eeef2290-f2be-4ff3-cd0d-298608091c02"
      },
      "execution_count": null,
      "outputs": [
        {
          "output_type": "stream",
          "name": "stderr",
          "text": [
            "/usr/local/lib/python3.12/dist-packages/sklearn/linear_model/_logistic.py:1247: FutureWarning: 'multi_class' was deprecated in version 1.5 and will be removed in 1.7. From then on, it will always use 'multinomial'. Leave it to its default value to avoid this warning.\n",
            "  warnings.warn(\n"
          ]
        },
        {
          "output_type": "execute_result",
          "data": {
            "text/plain": [
              "LogisticRegression(max_iter=1000, multi_class='multinomial')"
            ],
            "text/html": [
              "<style>#sk-container-id-2 {\n",
              "  /* Definition of color scheme common for light and dark mode */\n",
              "  --sklearn-color-text: #000;\n",
              "  --sklearn-color-text-muted: #666;\n",
              "  --sklearn-color-line: gray;\n",
              "  /* Definition of color scheme for unfitted estimators */\n",
              "  --sklearn-color-unfitted-level-0: #fff5e6;\n",
              "  --sklearn-color-unfitted-level-1: #f6e4d2;\n",
              "  --sklearn-color-unfitted-level-2: #ffe0b3;\n",
              "  --sklearn-color-unfitted-level-3: chocolate;\n",
              "  /* Definition of color scheme for fitted estimators */\n",
              "  --sklearn-color-fitted-level-0: #f0f8ff;\n",
              "  --sklearn-color-fitted-level-1: #d4ebff;\n",
              "  --sklearn-color-fitted-level-2: #b3dbfd;\n",
              "  --sklearn-color-fitted-level-3: cornflowerblue;\n",
              "\n",
              "  /* Specific color for light theme */\n",
              "  --sklearn-color-text-on-default-background: var(--sg-text-color, var(--theme-code-foreground, var(--jp-content-font-color1, black)));\n",
              "  --sklearn-color-background: var(--sg-background-color, var(--theme-background, var(--jp-layout-color0, white)));\n",
              "  --sklearn-color-border-box: var(--sg-text-color, var(--theme-code-foreground, var(--jp-content-font-color1, black)));\n",
              "  --sklearn-color-icon: #696969;\n",
              "\n",
              "  @media (prefers-color-scheme: dark) {\n",
              "    /* Redefinition of color scheme for dark theme */\n",
              "    --sklearn-color-text-on-default-background: var(--sg-text-color, var(--theme-code-foreground, var(--jp-content-font-color1, white)));\n",
              "    --sklearn-color-background: var(--sg-background-color, var(--theme-background, var(--jp-layout-color0, #111)));\n",
              "    --sklearn-color-border-box: var(--sg-text-color, var(--theme-code-foreground, var(--jp-content-font-color1, white)));\n",
              "    --sklearn-color-icon: #878787;\n",
              "  }\n",
              "}\n",
              "\n",
              "#sk-container-id-2 {\n",
              "  color: var(--sklearn-color-text);\n",
              "}\n",
              "\n",
              "#sk-container-id-2 pre {\n",
              "  padding: 0;\n",
              "}\n",
              "\n",
              "#sk-container-id-2 input.sk-hidden--visually {\n",
              "  border: 0;\n",
              "  clip: rect(1px 1px 1px 1px);\n",
              "  clip: rect(1px, 1px, 1px, 1px);\n",
              "  height: 1px;\n",
              "  margin: -1px;\n",
              "  overflow: hidden;\n",
              "  padding: 0;\n",
              "  position: absolute;\n",
              "  width: 1px;\n",
              "}\n",
              "\n",
              "#sk-container-id-2 div.sk-dashed-wrapped {\n",
              "  border: 1px dashed var(--sklearn-color-line);\n",
              "  margin: 0 0.4em 0.5em 0.4em;\n",
              "  box-sizing: border-box;\n",
              "  padding-bottom: 0.4em;\n",
              "  background-color: var(--sklearn-color-background);\n",
              "}\n",
              "\n",
              "#sk-container-id-2 div.sk-container {\n",
              "  /* jupyter's `normalize.less` sets `[hidden] { display: none; }`\n",
              "     but bootstrap.min.css set `[hidden] { display: none !important; }`\n",
              "     so we also need the `!important` here to be able to override the\n",
              "     default hidden behavior on the sphinx rendered scikit-learn.org.\n",
              "     See: https://github.com/scikit-learn/scikit-learn/issues/21755 */\n",
              "  display: inline-block !important;\n",
              "  position: relative;\n",
              "}\n",
              "\n",
              "#sk-container-id-2 div.sk-text-repr-fallback {\n",
              "  display: none;\n",
              "}\n",
              "\n",
              "div.sk-parallel-item,\n",
              "div.sk-serial,\n",
              "div.sk-item {\n",
              "  /* draw centered vertical line to link estimators */\n",
              "  background-image: linear-gradient(var(--sklearn-color-text-on-default-background), var(--sklearn-color-text-on-default-background));\n",
              "  background-size: 2px 100%;\n",
              "  background-repeat: no-repeat;\n",
              "  background-position: center center;\n",
              "}\n",
              "\n",
              "/* Parallel-specific style estimator block */\n",
              "\n",
              "#sk-container-id-2 div.sk-parallel-item::after {\n",
              "  content: \"\";\n",
              "  width: 100%;\n",
              "  border-bottom: 2px solid var(--sklearn-color-text-on-default-background);\n",
              "  flex-grow: 1;\n",
              "}\n",
              "\n",
              "#sk-container-id-2 div.sk-parallel {\n",
              "  display: flex;\n",
              "  align-items: stretch;\n",
              "  justify-content: center;\n",
              "  background-color: var(--sklearn-color-background);\n",
              "  position: relative;\n",
              "}\n",
              "\n",
              "#sk-container-id-2 div.sk-parallel-item {\n",
              "  display: flex;\n",
              "  flex-direction: column;\n",
              "}\n",
              "\n",
              "#sk-container-id-2 div.sk-parallel-item:first-child::after {\n",
              "  align-self: flex-end;\n",
              "  width: 50%;\n",
              "}\n",
              "\n",
              "#sk-container-id-2 div.sk-parallel-item:last-child::after {\n",
              "  align-self: flex-start;\n",
              "  width: 50%;\n",
              "}\n",
              "\n",
              "#sk-container-id-2 div.sk-parallel-item:only-child::after {\n",
              "  width: 0;\n",
              "}\n",
              "\n",
              "/* Serial-specific style estimator block */\n",
              "\n",
              "#sk-container-id-2 div.sk-serial {\n",
              "  display: flex;\n",
              "  flex-direction: column;\n",
              "  align-items: center;\n",
              "  background-color: var(--sklearn-color-background);\n",
              "  padding-right: 1em;\n",
              "  padding-left: 1em;\n",
              "}\n",
              "\n",
              "\n",
              "/* Toggleable style: style used for estimator/Pipeline/ColumnTransformer box that is\n",
              "clickable and can be expanded/collapsed.\n",
              "- Pipeline and ColumnTransformer use this feature and define the default style\n",
              "- Estimators will overwrite some part of the style using the `sk-estimator` class\n",
              "*/\n",
              "\n",
              "/* Pipeline and ColumnTransformer style (default) */\n",
              "\n",
              "#sk-container-id-2 div.sk-toggleable {\n",
              "  /* Default theme specific background. It is overwritten whether we have a\n",
              "  specific estimator or a Pipeline/ColumnTransformer */\n",
              "  background-color: var(--sklearn-color-background);\n",
              "}\n",
              "\n",
              "/* Toggleable label */\n",
              "#sk-container-id-2 label.sk-toggleable__label {\n",
              "  cursor: pointer;\n",
              "  display: flex;\n",
              "  width: 100%;\n",
              "  margin-bottom: 0;\n",
              "  padding: 0.5em;\n",
              "  box-sizing: border-box;\n",
              "  text-align: center;\n",
              "  align-items: start;\n",
              "  justify-content: space-between;\n",
              "  gap: 0.5em;\n",
              "}\n",
              "\n",
              "#sk-container-id-2 label.sk-toggleable__label .caption {\n",
              "  font-size: 0.6rem;\n",
              "  font-weight: lighter;\n",
              "  color: var(--sklearn-color-text-muted);\n",
              "}\n",
              "\n",
              "#sk-container-id-2 label.sk-toggleable__label-arrow:before {\n",
              "  /* Arrow on the left of the label */\n",
              "  content: \"▸\";\n",
              "  float: left;\n",
              "  margin-right: 0.25em;\n",
              "  color: var(--sklearn-color-icon);\n",
              "}\n",
              "\n",
              "#sk-container-id-2 label.sk-toggleable__label-arrow:hover:before {\n",
              "  color: var(--sklearn-color-text);\n",
              "}\n",
              "\n",
              "/* Toggleable content - dropdown */\n",
              "\n",
              "#sk-container-id-2 div.sk-toggleable__content {\n",
              "  max-height: 0;\n",
              "  max-width: 0;\n",
              "  overflow: hidden;\n",
              "  text-align: left;\n",
              "  /* unfitted */\n",
              "  background-color: var(--sklearn-color-unfitted-level-0);\n",
              "}\n",
              "\n",
              "#sk-container-id-2 div.sk-toggleable__content.fitted {\n",
              "  /* fitted */\n",
              "  background-color: var(--sklearn-color-fitted-level-0);\n",
              "}\n",
              "\n",
              "#sk-container-id-2 div.sk-toggleable__content pre {\n",
              "  margin: 0.2em;\n",
              "  border-radius: 0.25em;\n",
              "  color: var(--sklearn-color-text);\n",
              "  /* unfitted */\n",
              "  background-color: var(--sklearn-color-unfitted-level-0);\n",
              "}\n",
              "\n",
              "#sk-container-id-2 div.sk-toggleable__content.fitted pre {\n",
              "  /* unfitted */\n",
              "  background-color: var(--sklearn-color-fitted-level-0);\n",
              "}\n",
              "\n",
              "#sk-container-id-2 input.sk-toggleable__control:checked~div.sk-toggleable__content {\n",
              "  /* Expand drop-down */\n",
              "  max-height: 200px;\n",
              "  max-width: 100%;\n",
              "  overflow: auto;\n",
              "}\n",
              "\n",
              "#sk-container-id-2 input.sk-toggleable__control:checked~label.sk-toggleable__label-arrow:before {\n",
              "  content: \"▾\";\n",
              "}\n",
              "\n",
              "/* Pipeline/ColumnTransformer-specific style */\n",
              "\n",
              "#sk-container-id-2 div.sk-label input.sk-toggleable__control:checked~label.sk-toggleable__label {\n",
              "  color: var(--sklearn-color-text);\n",
              "  background-color: var(--sklearn-color-unfitted-level-2);\n",
              "}\n",
              "\n",
              "#sk-container-id-2 div.sk-label.fitted input.sk-toggleable__control:checked~label.sk-toggleable__label {\n",
              "  background-color: var(--sklearn-color-fitted-level-2);\n",
              "}\n",
              "\n",
              "/* Estimator-specific style */\n",
              "\n",
              "/* Colorize estimator box */\n",
              "#sk-container-id-2 div.sk-estimator input.sk-toggleable__control:checked~label.sk-toggleable__label {\n",
              "  /* unfitted */\n",
              "  background-color: var(--sklearn-color-unfitted-level-2);\n",
              "}\n",
              "\n",
              "#sk-container-id-2 div.sk-estimator.fitted input.sk-toggleable__control:checked~label.sk-toggleable__label {\n",
              "  /* fitted */\n",
              "  background-color: var(--sklearn-color-fitted-level-2);\n",
              "}\n",
              "\n",
              "#sk-container-id-2 div.sk-label label.sk-toggleable__label,\n",
              "#sk-container-id-2 div.sk-label label {\n",
              "  /* The background is the default theme color */\n",
              "  color: var(--sklearn-color-text-on-default-background);\n",
              "}\n",
              "\n",
              "/* On hover, darken the color of the background */\n",
              "#sk-container-id-2 div.sk-label:hover label.sk-toggleable__label {\n",
              "  color: var(--sklearn-color-text);\n",
              "  background-color: var(--sklearn-color-unfitted-level-2);\n",
              "}\n",
              "\n",
              "/* Label box, darken color on hover, fitted */\n",
              "#sk-container-id-2 div.sk-label.fitted:hover label.sk-toggleable__label.fitted {\n",
              "  color: var(--sklearn-color-text);\n",
              "  background-color: var(--sklearn-color-fitted-level-2);\n",
              "}\n",
              "\n",
              "/* Estimator label */\n",
              "\n",
              "#sk-container-id-2 div.sk-label label {\n",
              "  font-family: monospace;\n",
              "  font-weight: bold;\n",
              "  display: inline-block;\n",
              "  line-height: 1.2em;\n",
              "}\n",
              "\n",
              "#sk-container-id-2 div.sk-label-container {\n",
              "  text-align: center;\n",
              "}\n",
              "\n",
              "/* Estimator-specific */\n",
              "#sk-container-id-2 div.sk-estimator {\n",
              "  font-family: monospace;\n",
              "  border: 1px dotted var(--sklearn-color-border-box);\n",
              "  border-radius: 0.25em;\n",
              "  box-sizing: border-box;\n",
              "  margin-bottom: 0.5em;\n",
              "  /* unfitted */\n",
              "  background-color: var(--sklearn-color-unfitted-level-0);\n",
              "}\n",
              "\n",
              "#sk-container-id-2 div.sk-estimator.fitted {\n",
              "  /* fitted */\n",
              "  background-color: var(--sklearn-color-fitted-level-0);\n",
              "}\n",
              "\n",
              "/* on hover */\n",
              "#sk-container-id-2 div.sk-estimator:hover {\n",
              "  /* unfitted */\n",
              "  background-color: var(--sklearn-color-unfitted-level-2);\n",
              "}\n",
              "\n",
              "#sk-container-id-2 div.sk-estimator.fitted:hover {\n",
              "  /* fitted */\n",
              "  background-color: var(--sklearn-color-fitted-level-2);\n",
              "}\n",
              "\n",
              "/* Specification for estimator info (e.g. \"i\" and \"?\") */\n",
              "\n",
              "/* Common style for \"i\" and \"?\" */\n",
              "\n",
              ".sk-estimator-doc-link,\n",
              "a:link.sk-estimator-doc-link,\n",
              "a:visited.sk-estimator-doc-link {\n",
              "  float: right;\n",
              "  font-size: smaller;\n",
              "  line-height: 1em;\n",
              "  font-family: monospace;\n",
              "  background-color: var(--sklearn-color-background);\n",
              "  border-radius: 1em;\n",
              "  height: 1em;\n",
              "  width: 1em;\n",
              "  text-decoration: none !important;\n",
              "  margin-left: 0.5em;\n",
              "  text-align: center;\n",
              "  /* unfitted */\n",
              "  border: var(--sklearn-color-unfitted-level-1) 1pt solid;\n",
              "  color: var(--sklearn-color-unfitted-level-1);\n",
              "}\n",
              "\n",
              ".sk-estimator-doc-link.fitted,\n",
              "a:link.sk-estimator-doc-link.fitted,\n",
              "a:visited.sk-estimator-doc-link.fitted {\n",
              "  /* fitted */\n",
              "  border: var(--sklearn-color-fitted-level-1) 1pt solid;\n",
              "  color: var(--sklearn-color-fitted-level-1);\n",
              "}\n",
              "\n",
              "/* On hover */\n",
              "div.sk-estimator:hover .sk-estimator-doc-link:hover,\n",
              ".sk-estimator-doc-link:hover,\n",
              "div.sk-label-container:hover .sk-estimator-doc-link:hover,\n",
              ".sk-estimator-doc-link:hover {\n",
              "  /* unfitted */\n",
              "  background-color: var(--sklearn-color-unfitted-level-3);\n",
              "  color: var(--sklearn-color-background);\n",
              "  text-decoration: none;\n",
              "}\n",
              "\n",
              "div.sk-estimator.fitted:hover .sk-estimator-doc-link.fitted:hover,\n",
              ".sk-estimator-doc-link.fitted:hover,\n",
              "div.sk-label-container:hover .sk-estimator-doc-link.fitted:hover,\n",
              ".sk-estimator-doc-link.fitted:hover {\n",
              "  /* fitted */\n",
              "  background-color: var(--sklearn-color-fitted-level-3);\n",
              "  color: var(--sklearn-color-background);\n",
              "  text-decoration: none;\n",
              "}\n",
              "\n",
              "/* Span, style for the box shown on hovering the info icon */\n",
              ".sk-estimator-doc-link span {\n",
              "  display: none;\n",
              "  z-index: 9999;\n",
              "  position: relative;\n",
              "  font-weight: normal;\n",
              "  right: .2ex;\n",
              "  padding: .5ex;\n",
              "  margin: .5ex;\n",
              "  width: min-content;\n",
              "  min-width: 20ex;\n",
              "  max-width: 50ex;\n",
              "  color: var(--sklearn-color-text);\n",
              "  box-shadow: 2pt 2pt 4pt #999;\n",
              "  /* unfitted */\n",
              "  background: var(--sklearn-color-unfitted-level-0);\n",
              "  border: .5pt solid var(--sklearn-color-unfitted-level-3);\n",
              "}\n",
              "\n",
              ".sk-estimator-doc-link.fitted span {\n",
              "  /* fitted */\n",
              "  background: var(--sklearn-color-fitted-level-0);\n",
              "  border: var(--sklearn-color-fitted-level-3);\n",
              "}\n",
              "\n",
              ".sk-estimator-doc-link:hover span {\n",
              "  display: block;\n",
              "}\n",
              "\n",
              "/* \"?\"-specific style due to the `<a>` HTML tag */\n",
              "\n",
              "#sk-container-id-2 a.estimator_doc_link {\n",
              "  float: right;\n",
              "  font-size: 1rem;\n",
              "  line-height: 1em;\n",
              "  font-family: monospace;\n",
              "  background-color: var(--sklearn-color-background);\n",
              "  border-radius: 1rem;\n",
              "  height: 1rem;\n",
              "  width: 1rem;\n",
              "  text-decoration: none;\n",
              "  /* unfitted */\n",
              "  color: var(--sklearn-color-unfitted-level-1);\n",
              "  border: var(--sklearn-color-unfitted-level-1) 1pt solid;\n",
              "}\n",
              "\n",
              "#sk-container-id-2 a.estimator_doc_link.fitted {\n",
              "  /* fitted */\n",
              "  border: var(--sklearn-color-fitted-level-1) 1pt solid;\n",
              "  color: var(--sklearn-color-fitted-level-1);\n",
              "}\n",
              "\n",
              "/* On hover */\n",
              "#sk-container-id-2 a.estimator_doc_link:hover {\n",
              "  /* unfitted */\n",
              "  background-color: var(--sklearn-color-unfitted-level-3);\n",
              "  color: var(--sklearn-color-background);\n",
              "  text-decoration: none;\n",
              "}\n",
              "\n",
              "#sk-container-id-2 a.estimator_doc_link.fitted:hover {\n",
              "  /* fitted */\n",
              "  background-color: var(--sklearn-color-fitted-level-3);\n",
              "}\n",
              "</style><div id=\"sk-container-id-2\" class=\"sk-top-container\"><div class=\"sk-text-repr-fallback\"><pre>LogisticRegression(max_iter=1000, multi_class=&#x27;multinomial&#x27;)</pre><b>In a Jupyter environment, please rerun this cell to show the HTML representation or trust the notebook. <br />On GitHub, the HTML representation is unable to render, please try loading this page with nbviewer.org.</b></div><div class=\"sk-container\" hidden><div class=\"sk-item\"><div class=\"sk-estimator fitted sk-toggleable\"><input class=\"sk-toggleable__control sk-hidden--visually\" id=\"sk-estimator-id-2\" type=\"checkbox\" checked><label for=\"sk-estimator-id-2\" class=\"sk-toggleable__label fitted sk-toggleable__label-arrow\"><div><div>LogisticRegression</div></div><div><a class=\"sk-estimator-doc-link fitted\" rel=\"noreferrer\" target=\"_blank\" href=\"https://scikit-learn.org/1.6/modules/generated/sklearn.linear_model.LogisticRegression.html\">?<span>Documentation for LogisticRegression</span></a><span class=\"sk-estimator-doc-link fitted\">i<span>Fitted</span></span></div></label><div class=\"sk-toggleable__content fitted\"><pre>LogisticRegression(max_iter=1000, multi_class=&#x27;multinomial&#x27;)</pre></div> </div></div></div></div>"
            ]
          },
          "metadata": {},
          "execution_count": 71
        }
      ]
    },
    {
      "cell_type": "code",
      "source": [
        "# Evaluación del modelo (usamos los datos de testeo)\n",
        "Y_pred = modelo.predict(X_test)\n",
        "\n",
        "# Calcula la precisión (accuracy), % de predicciones correctas que hizo el modelo\n",
        "print(\"Precisión del modelo:\", round(accuracy_score(Y_test, Y_pred), 2))"
      ],
      "metadata": {
        "colab": {
          "base_uri": "https://localhost:8080/"
        },
        "id": "dSpkBCww3haw",
        "outputId": "882274ed-bea0-4389-be2e-3dc4b14a5e26"
      },
      "execution_count": null,
      "outputs": [
        {
          "output_type": "stream",
          "name": "stdout",
          "text": [
            "Precisión del modelo: 0.68\n"
          ]
        }
      ]
    },
    {
      "cell_type": "markdown",
      "source": [
        "**La matriz de confusión** es una herramienta visual mucho más detallada que la precisión. No solo te dice cuántas veces el modelo acertó, sino también en qué se equivocó.\n",
        "\n",
        "Los números en la diagonal principal (arriba izquierda a abajo derecha) muestran los aciertos. Los números fuera de esta diagonal son los errores de clasificación."
      ],
      "metadata": {
        "id": "uR-pMfXj3pfS"
      }
    },
    {
      "cell_type": "code",
      "source": [
        "# Matriz de confusión. Crea una tabla que cruza los valores reales (Y_test) con los valores predichos (Y_pred).\n",
        "\n",
        "print(\"Matriz de confusión:\")\n",
        "cm = confusion_matrix(Y_test, Y_pred, labels=modelo.classes_)\n",
        "\n",
        "# Mapa de calor para visualizar mejor\n",
        "sns.heatmap(cm, annot=True, fmt='d', cmap='Blues', xticklabels=modelo.classes_, yticklabels=modelo.classes_)\n",
        "plt.title(\"Matriz de confusión - Clasificación de usuarios\")\n",
        "plt.xlabel(\"Predicción\")\n",
        "plt.ylabel(\"Valor real\")\n",
        "plt.show()\n",
        "\n",
        "print(\"\\nReporte de clasificación:\")\n",
        "print(classification_report(Y_test, Y_pred))\n"
      ],
      "metadata": {
        "colab": {
          "base_uri": "https://localhost:8080/",
          "height": 698
        },
        "id": "id05ycCdxJts",
        "outputId": "5a437f47-4584-4979-f30a-4e5312ac58bb"
      },
      "execution_count": null,
      "outputs": [
        {
          "output_type": "stream",
          "name": "stdout",
          "text": [
            "Matriz de confusión:\n"
          ]
        },
        {
          "output_type": "display_data",
          "data": {
            "text/plain": [
              "<Figure size 640x480 with 2 Axes>"
            ],
            "image/png": "[encoded data removed]"
          },
          "metadata": {}
        },
        {
          "output_type": "stream",
          "name": "stdout",
          "text": [
            "\n",
            "Reporte de clasificación:\n",
            "              precision    recall  f1-score   support\n",
            "\n",
            "           0       0.62      0.81      0.70        16\n",
            "           1       0.67      0.33      0.44        12\n",
            "           2       0.86      1.00      0.92         6\n",
            "\n",
            "    accuracy                           0.68        34\n",
            "   macro avg       0.71      0.72      0.69        34\n",
            "weighted avg       0.68      0.68      0.65        34\n",
            "\n"
          ]
        }
      ]
    },
    {
      "cell_type": "markdown",
      "source": [
        "##**Cómo usar el modelo ya entrenado para hacer predicciones en datos nuevos.**"
      ],
      "metadata": {
        "id": "C_y0Egq24tRo"
      }
    },
    {
      "cell_type": "code",
      "source": [
        "# Clasificación de nuevos usuarios simulados\n",
        "# Nuevos usuarios ficticios\n",
        "nuevos_usuarios = pd.DataFrame({\n",
        "    'duracion': [10, 300, 1200],\n",
        "    'paginas': [2, 5, 1],\n",
        "    'acciones': [10, 30, 5],\n",
        "    'valor': [40, 120, 20]\n",
        "})\n",
        "\n",
        "# Predicción\n",
        "predicciones = modelo.predict(nuevos_usuarios)\n",
        "print(\"Predicción para nuevos usuarios:\", predicciones)\n"
      ],
      "metadata": {
        "colab": {
          "base_uri": "https://localhost:8080/"
        },
        "id": "ojiMHlWHxPKh",
        "outputId": "7871e856-2ee6-4347-e3c5-27b4c77c49a9"
      },
      "execution_count": null,
      "outputs": [
        {
          "output_type": "stream",
          "name": "stdout",
          "text": [
            "Predicción para nuevos usuarios: [0 0 1]\n"
          ]
        },
        {
          "output_type": "stream",
          "name": "stderr",
          "text": [
            "/usr/local/lib/python3.12/dist-packages/sklearn/utils/validation.py:2732: UserWarning: X has feature names, but LogisticRegression was fitted without feature names\n",
            "  warnings.warn(\n"
          ]
        }
      ]
    },
    {
      "cell_type": "code",
      "source": [
        "# Visualización en 2D con PCA\n",
        "from sklearn.decomposition import PCA\n",
        "\n",
        "# Aplicamos PCA para reducir a 2 dimensiones\n",
        "pca = PCA(n_components=2)\n",
        "X_pca = pca.fit_transform(X)\n",
        "\n",
        "# Creamos un DataFrame para graficar\n",
        "df_pca = pd.DataFrame(X_pca, columns=['PC1', 'PC2'])\n",
        "df_pca['clase'] = Y\n",
        "\n",
        "# Visualización\n",
        "plt.figure(figsize=(8,6))\n",
        "sns.scatterplot(data=df_pca, x='PC1', y='PC2', hue='clase', palette='Set1', s=80)\n",
        "plt.title('Visualización de usuarios por sistema operativo (PCA)')\n",
        "plt.xlabel('Componente principal 1')\n",
        "plt.ylabel('Componente principal 2')\n",
        "plt.grid(True)\n",
        "plt.legend(title='Sistema Operativo')\n",
        "plt.show()\n"
      ],
      "metadata": {
        "colab": {
          "base_uri": "https://localhost:8080/",
          "height": 565
        },
        "id": "mFQ2-5E6xe3o",
        "outputId": "c4eaa8eb-6020-4ed7-927e-b5241b93a647"
      },
      "execution_count": null,
      "outputs": [
        {
          "output_type": "display_data",
          "data": {
            "text/plain": [
              "<Figure size 800x600 with 1 Axes>"
            ],
            "image/png": "[encoded data removed]"
          },
          "metadata": {}
        }
      ]
    },
    {
      "cell_type": "markdown",
      "source": [
        "##**Interpretación**\n",
        "\n",
        "La visualización con PCA permite observar cómo se distribuyen los usuarios en función de sus características.\n",
        "\n",
        "Aunque PCA no garantiza una separación perfecta entre clases, ayuda a detectar patrones y agrupamientos.\n",
        "\n",
        "Si las clases se superponen mucho, podría ser útil explorar otras técnicas como t-SNE o agregar nuevas variables.\n",
        "\n",
        "*En resumen,* el gráfico te muestra visualmente por qué las métricas de tu modelo (como la precisión) podrían no ser perfectas. La mezcla de puntos significa que las características de tus usuarios son muy parecidas, independientemente de su sistema operativo, lo que dificulta la tarea del modelo de machine learning de clasificarlos correctamente."
      ],
      "metadata": {
        "id": "MSqHQQPQxu1a"
      }
    }
  ]
}